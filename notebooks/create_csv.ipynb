{
 "cells": [
  {
   "cell_type": "code",
   "execution_count": 20,
   "source": [
    "import os\n",
    "import pandas as pd\n",
    "from sklearn.model_selection import train_test_split"
   ],
   "outputs": [],
   "metadata": {}
  },
  {
   "cell_type": "code",
   "execution_count": 21,
   "source": [
    "train_paths = os.listdir(\"/home/narek/kaggle/army/data/train\")\n",
    "\n",
    "train_targets = []\n",
    "for i in train_paths:\n",
    "    if i.startswith(\"human\"):\n",
    "        train_targets.append(0)\n",
    "    elif i.startswith(\"target_human\"):\n",
    "        train_targets.append(1)\n",
    "    elif i.startswith(\"target_laser\"):\n",
    "        train_targets.append(2)\n",
    "    elif i.startswith(\"target_gun\"):\n",
    "        train_targets.append(3)\n",
    "    elif i.startswith(\"target_tank\"):\n",
    "        train_targets.append(4)"
   ],
   "outputs": [],
   "metadata": {}
  },
  {
   "cell_type": "code",
   "execution_count": 22,
   "source": [
    "train_paths = [os.path.join(\"train\", i) for i in train_paths]\n",
    "train_df = pd.DataFrame({\"path\": train_paths, \"target\": train_targets, \"split\": \"train\"})"
   ],
   "outputs": [],
   "metadata": {}
  },
  {
   "cell_type": "code",
   "execution_count": 23,
   "source": [
    "train_df.head()"
   ],
   "outputs": [
    {
     "output_type": "execute_result",
     "data": {
      "text/plain": [
       "                                                path  target  split\n",
       "0  train/target_laser_camera4_1906_16014646144992...       2  train\n",
       "1          train/target_human_IMG_164121071x1278.jpg       1  train\n",
       "2             train/target_gun_IMG_38086967x1784.jpg       3  train\n",
       "3              train/target_gun_IMG_262671347x54.jpg       3  train\n",
       "4           train/target_human_IMG_41351946x1980.jpg       1  train"
      ],
      "text/html": [
       "<div>\n",
       "<style scoped>\n",
       "    .dataframe tbody tr th:only-of-type {\n",
       "        vertical-align: middle;\n",
       "    }\n",
       "\n",
       "    .dataframe tbody tr th {\n",
       "        vertical-align: top;\n",
       "    }\n",
       "\n",
       "    .dataframe thead th {\n",
       "        text-align: right;\n",
       "    }\n",
       "</style>\n",
       "<table border=\"1\" class=\"dataframe\">\n",
       "  <thead>\n",
       "    <tr style=\"text-align: right;\">\n",
       "      <th></th>\n",
       "      <th>path</th>\n",
       "      <th>target</th>\n",
       "      <th>split</th>\n",
       "    </tr>\n",
       "  </thead>\n",
       "  <tbody>\n",
       "    <tr>\n",
       "      <th>0</th>\n",
       "      <td>train/target_laser_camera4_1906_16014646144992...</td>\n",
       "      <td>2</td>\n",
       "      <td>train</td>\n",
       "    </tr>\n",
       "    <tr>\n",
       "      <th>1</th>\n",
       "      <td>train/target_human_IMG_164121071x1278.jpg</td>\n",
       "      <td>1</td>\n",
       "      <td>train</td>\n",
       "    </tr>\n",
       "    <tr>\n",
       "      <th>2</th>\n",
       "      <td>train/target_gun_IMG_38086967x1784.jpg</td>\n",
       "      <td>3</td>\n",
       "      <td>train</td>\n",
       "    </tr>\n",
       "    <tr>\n",
       "      <th>3</th>\n",
       "      <td>train/target_gun_IMG_262671347x54.jpg</td>\n",
       "      <td>3</td>\n",
       "      <td>train</td>\n",
       "    </tr>\n",
       "    <tr>\n",
       "      <th>4</th>\n",
       "      <td>train/target_human_IMG_41351946x1980.jpg</td>\n",
       "      <td>1</td>\n",
       "      <td>train</td>\n",
       "    </tr>\n",
       "  </tbody>\n",
       "</table>\n",
       "</div>"
      ]
     },
     "metadata": {},
     "execution_count": 23
    }
   ],
   "metadata": {}
  },
  {
   "cell_type": "code",
   "execution_count": 24,
   "source": [
    "test_paths = os.listdir(\"/home/narek/kaggle/army/data/public_test/\")\n",
    "\n",
    "test_targets = []\n",
    "for i in test_paths:\n",
    "    if i.startswith(\"human\"):\n",
    "        test_targets.append(0)\n",
    "    elif i.startswith(\"target_human\"):\n",
    "        test_targets.append(1)\n",
    "    elif i.startswith(\"target_laser\"):\n",
    "        test_targets.append(2)\n",
    "    elif i.startswith(\"target_gun\"):\n",
    "        test_targets.append(3)\n",
    "    elif i.startswith(\"target_tank\"):\n",
    "        test_targets.append(4)"
   ],
   "outputs": [],
   "metadata": {}
  },
  {
   "cell_type": "code",
   "execution_count": 25,
   "source": [
    "test_paths = [os.path.join(\"public_test\", i) for i in test_paths]\n",
    "test_df = pd.DataFrame({\"path\": test_paths, \"target\": test_targets, \"split\": \"test\"})"
   ],
   "outputs": [],
   "metadata": {}
  },
  {
   "cell_type": "code",
   "execution_count": 26,
   "source": [
    "test_df.head()"
   ],
   "outputs": [
    {
     "output_type": "execute_result",
     "data": {
      "text/plain": [
       "                                                path  target split\n",
       "0  public_test/target_laser_camera1_1096_16014645...       2  test\n",
       "1  public_test/human_camera3_4201_160197818328607...       0  test\n",
       "2  public_test/human_camera1_5635_527846551590010...       0  test\n",
       "3  public_test/human_camera1_17139_42565469713424...       0  test\n",
       "4  public_test/target_laser_camera1_1106_16014645...       2  test"
      ],
      "text/html": [
       "<div>\n",
       "<style scoped>\n",
       "    .dataframe tbody tr th:only-of-type {\n",
       "        vertical-align: middle;\n",
       "    }\n",
       "\n",
       "    .dataframe tbody tr th {\n",
       "        vertical-align: top;\n",
       "    }\n",
       "\n",
       "    .dataframe thead th {\n",
       "        text-align: right;\n",
       "    }\n",
       "</style>\n",
       "<table border=\"1\" class=\"dataframe\">\n",
       "  <thead>\n",
       "    <tr style=\"text-align: right;\">\n",
       "      <th></th>\n",
       "      <th>path</th>\n",
       "      <th>target</th>\n",
       "      <th>split</th>\n",
       "    </tr>\n",
       "  </thead>\n",
       "  <tbody>\n",
       "    <tr>\n",
       "      <th>0</th>\n",
       "      <td>public_test/target_laser_camera1_1096_16014645...</td>\n",
       "      <td>2</td>\n",
       "      <td>test</td>\n",
       "    </tr>\n",
       "    <tr>\n",
       "      <th>1</th>\n",
       "      <td>public_test/human_camera3_4201_160197818328607...</td>\n",
       "      <td>0</td>\n",
       "      <td>test</td>\n",
       "    </tr>\n",
       "    <tr>\n",
       "      <th>2</th>\n",
       "      <td>public_test/human_camera1_5635_527846551590010...</td>\n",
       "      <td>0</td>\n",
       "      <td>test</td>\n",
       "    </tr>\n",
       "    <tr>\n",
       "      <th>3</th>\n",
       "      <td>public_test/human_camera1_17139_42565469713424...</td>\n",
       "      <td>0</td>\n",
       "      <td>test</td>\n",
       "    </tr>\n",
       "    <tr>\n",
       "      <th>4</th>\n",
       "      <td>public_test/target_laser_camera1_1106_16014645...</td>\n",
       "      <td>2</td>\n",
       "      <td>test</td>\n",
       "    </tr>\n",
       "  </tbody>\n",
       "</table>\n",
       "</div>"
      ]
     },
     "metadata": {},
     "execution_count": 26
    }
   ],
   "metadata": {}
  },
  {
   "cell_type": "code",
   "execution_count": 27,
   "source": [
    "train_df, val_df = train_test_split(train_df, test_size=0.2)"
   ],
   "outputs": [],
   "metadata": {}
  },
  {
   "cell_type": "code",
   "execution_count": 28,
   "source": [
    "train_df.target.value_counts()"
   ],
   "outputs": [
    {
     "output_type": "execute_result",
     "data": {
      "text/plain": [
       "1    6350\n",
       "3    2363\n",
       "2    1818\n",
       "0    1447\n",
       "4    1288\n",
       "Name: target, dtype: int64"
      ]
     },
     "metadata": {},
     "execution_count": 28
    }
   ],
   "metadata": {}
  },
  {
   "cell_type": "code",
   "execution_count": 30,
   "source": [
    "val_df.target.value_counts()"
   ],
   "outputs": [
    {
     "output_type": "execute_result",
     "data": {
      "text/plain": [
       "1    1567\n",
       "3     629\n",
       "2     464\n",
       "0     351\n",
       "4     306\n",
       "Name: target, dtype: int64"
      ]
     },
     "metadata": {},
     "execution_count": 30
    }
   ],
   "metadata": {}
  },
  {
   "cell_type": "code",
   "execution_count": 32,
   "source": [
    "val_df.split = \"val\""
   ],
   "outputs": [],
   "metadata": {}
  },
  {
   "cell_type": "code",
   "execution_count": 35,
   "source": [
    "\n",
    "train_df.shape, test_df.shape, val_df.shape"
   ],
   "outputs": [
    {
     "output_type": "execute_result",
     "data": {
      "text/plain": [
       "((13266, 3), (1942, 3), (3317, 3))"
      ]
     },
     "metadata": {},
     "execution_count": 35
    }
   ],
   "metadata": {}
  },
  {
   "cell_type": "code",
   "execution_count": 40,
   "source": [
    "pd.concat([train_df, val_df, test_df]).to_csv(\"/home/narek/kaggle/army/data/meta_info.csv\", index=None)"
   ],
   "outputs": [],
   "metadata": {}
  },
  {
   "cell_type": "code",
   "execution_count": null,
   "source": [],
   "outputs": [],
   "metadata": {}
  }
 ],
 "metadata": {
  "kernelspec": {
   "name": "python3",
   "display_name": "Python 3.8.2 64-bit"
  },
  "language_info": {
   "name": "python",
   "version": "3.8.10",
   "mimetype": "text/x-python",
   "codemirror_mode": {
    "name": "ipython",
    "version": 3
   },
   "pygments_lexer": "ipython3",
   "nbconvert_exporter": "python",
   "file_extension": ".py"
  },
  "interpreter": {
   "hash": "31f2aee4e71d21fbe5cf8b01ff0e069b9275f58929596ceb00d14d90e3e16cd6"
  }
 },
 "nbformat": 4,
 "nbformat_minor": 5
}