{
 "cells": [
  {
   "cell_type": "code",
   "execution_count": 1,
   "id": "c2792449-ca2b-477d-a7b4-ddcfd37a4895",
   "metadata": {
    "tags": []
   },
   "outputs": [],
   "source": [
    "import json\n",
    "import os\n",
    "import sys\n",
    "\n",
    "import cv2\n",
    "import numpy as np\n",
    "import pandas as pd\n",
    "import torch\n",
    "from tqdm import tqdm\n",
    "import ttach as tta\n",
    "from aim_target.utils import compute_accuracy\n",
    "\n",
    "with open(\"../configs/config.json\", \"r\") as f:\n",
    "    config = json.load(f)\n",
    "\n",
    "model = torch.load(\n",
    "    f\"../{config['checkpoints']}/{config['image_size']}_{config['model']}.pt\"\n",
    ")\n",
    "model.to(\"cuda\")\n",
    "model.eval();\n",
    "\n",
    "tta_model = tta.ClassificationTTAWrapper(model, tta.aliases.hflip_transform())"
   ]
  },
  {
   "cell_type": "code",
   "execution_count": 2,
   "id": "ef6807db-6f09-431a-bf8a-48c5c5e85125",
   "metadata": {},
   "outputs": [],
   "source": [
    "test_data = []\n",
    "test_target = []\n",
    "for i in os.listdir(\"../data/public_test_v2/\"):\n",
    "    for j in os.listdir(f\"../data/public_test_v2/{i}\"):\n",
    "        if i == \"human\":\n",
    "            test_target.append(0)\n",
    "        elif i == \"target_1human\":\n",
    "            test_target.append(1)\n",
    "        elif i == \"target_2laser\":\n",
    "            test_target.append(2)\n",
    "        elif i == \"target_3gun\":\n",
    "            test_target.append(3)\n",
    "        elif i == \"target_4tank\":\n",
    "            test_target.append(4)\n",
    "            \n",
    "        test_data.append(f\"../data/public_test_v2/{i}/{j}\")"
   ]
  },
  {
   "cell_type": "code",
   "execution_count": 3,
   "id": "00fafb08-a2cd-4e3a-889b-da81b5ae20f2",
   "metadata": {},
   "outputs": [
    {
     "name": "stderr",
     "output_type": "stream",
     "text": [
      "100%|██████████| 1942/1942 [00:29<00:00, 65.15it/s]\n"
     ]
    }
   ],
   "source": [
    "fin_outputs = []\n",
    "with torch.no_grad():\n",
    "    for i in tqdm(test_data, total=len(test_data)):\n",
    "        try:\n",
    "            image = cv2.imread(i)\n",
    "            image = cv2.resize(image, (config[\"image_size\"], config[\"image_size\"]))\n",
    "            image = torch.tensor(np.moveaxis(image, -1, 0), dtype=torch.float).unsqueeze(0)\n",
    "            image = image.to(config[\"device\"])\n",
    "\n",
    "            outputs = model(image)\n",
    "            outputs = outputs.squeeze(1)\n",
    "            outputs = np.argmax(outputs.detach().cpu().numpy(), axis=1)\n",
    "            fin_outputs.extend(outputs.tolist())\n",
    "        except:\n",
    "            print(i)"
   ]
  },
  {
   "cell_type": "code",
   "execution_count": 4,
   "id": "5fb84a09-8fe7-417c-897d-af974b41f325",
   "metadata": {},
   "outputs": [
    {
     "name": "stdout",
     "output_type": "stream",
     "text": [
      "avg_acc 0.8326467559217302, per_class_acc human:0.61 target_human:0.9916666666666667 target_laser:0.9944444444444445 target_gun:0.9710743801652892 target_tank:1.0\n",
      "score 40.638891439649015\n"
     ]
    },
    {
     "data": {
      "text/plain": [
       "(0.8326467559217302,\n",
       " [0.61, 0.9916666666666667, 0.9944444444444445, 0.9710743801652892, 1.0])"
      ]
     },
     "execution_count": 4,
     "metadata": {},
     "output_type": "execute_result"
    }
   ],
   "source": [
    "compute_accuracy(test_target, fin_outputs)"
   ]
  },
  {
   "cell_type": "code",
   "execution_count": 5,
   "id": "b6cab4f0-7373-43e5-9bd2-fa1f216e1246",
   "metadata": {},
   "outputs": [],
   "source": [
    "pd.DataFrame({\"target\": fin_outputs, \"path\": [i.split(\"/\")[-1] for i in test_data]}).to_csv(\"../submission.csv\", index=None)"
   ]
  },
  {
   "cell_type": "code",
   "execution_count": null,
   "id": "b62abd44-5033-4a2c-be06-2e8bb68678ad",
   "metadata": {},
   "outputs": [],
   "source": []
  }
 ],
 "metadata": {
  "kernelspec": {
   "display_name": "Python 3",
   "language": "python",
   "name": "python3"
  },
  "language_info": {
   "codemirror_mode": {
    "name": "ipython",
    "version": 3
   },
   "file_extension": ".py",
   "mimetype": "text/x-python",
   "name": "python",
   "nbconvert_exporter": "python",
   "pygments_lexer": "ipython3",
   "version": "3.8.10"
  }
 },
 "nbformat": 4,
 "nbformat_minor": 5
}
